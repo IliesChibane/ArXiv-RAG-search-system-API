{
  "nbformat": 4,
  "nbformat_minor": 0,
  "metadata": {
    "colab": {
      "provenance": [],
      "gpuType": "T4"
    },
    "kernelspec": {
      "name": "python3",
      "display_name": "Python 3"
    },
    "language_info": {
      "name": "python"
    },
    "accelerator": "GPU"
  },
  "cells": [
    {
      "cell_type": "markdown",
      "source": [
        "# ArXiv RAG search system"
      ],
      "metadata": {
        "id": "fTDAHFCY2lX-"
      }
    },
    {
      "cell_type": "markdown",
      "source": [
        "## Install Required librairies"
      ],
      "metadata": {
        "id": "YKekUfl22uzL"
      }
    },
    {
      "cell_type": "code",
      "execution_count": null,
      "metadata": {
        "id": "LPoMJGp0xXFi"
      },
      "outputs": [],
      "source": [
        "!pip install -U sentence-transformers\n",
        "!pip install faiss-gpu\n",
        "!pip install -q transformers einops accelerate langchain bitsandbytes"
      ]
    },
    {
      "cell_type": "markdown",
      "source": [
        "## Import Rquired librairies"
      ],
      "metadata": {
        "id": "bfTljIWn2yX2"
      }
    },
    {
      "cell_type": "code",
      "source": [
        "import pandas as pd\n",
        "import numpy as np\n",
        "import os\n",
        "\n",
        "import json\n",
        "import re\n",
        "\n",
        "from google.colab import drive\n",
        "\n",
        "import faiss\n",
        "import transformers\n",
        "import torch\n",
        "\n",
        "from sentence_transformers import SentenceTransformer, CrossEncoder\n",
        "from transformers import AutoTokenizer, AutoModelForCausalLM\n",
        "from langchain.llms import HuggingFacePipeline\n",
        "from transformers import AutoTokenizer\n",
        "\n",
        "import warnings\n",
        "warnings.filterwarnings('ignore')"
      ],
      "metadata": {
        "id": "D6de81yJyyUj"
      },
      "execution_count": 3,
      "outputs": []
    },
    {
      "cell_type": "markdown",
      "source": [
        "## Import Dataset"
      ],
      "metadata": {
        "id": "XnOiTugw23A6"
      }
    },
    {
      "cell_type": "code",
      "source": [
        "drive.mount('/content/drive', force_remount=True)"
      ],
      "metadata": {
        "id": "qnvE_rLd_Dk3"
      },
      "execution_count": null,
      "outputs": []
    },
    {
      "cell_type": "markdown",
      "source": [
        "## Update ArXiv categories"
      ],
      "metadata": {
        "id": "6OBfpZO33DM6"
      }
    },
    {
      "cell_type": "code",
      "source": [
        "category_map = {\n",
        "'acc-phys': 'Accelerator Physics',\n",
        "'adap-org': 'Not available',\n",
        "'q-bio': 'Not available',\n",
        "'cond-mat': 'Not available',\n",
        "'chao-dyn': 'Not available',\n",
        "'patt-sol': 'Not available',\n",
        "'dg-ga': 'Not available',\n",
        "'solv-int': 'Not available',\n",
        "'bayes-an': 'Not available',\n",
        "'comp-gas': 'Not available',\n",
        "'alg-geom': 'Not available',\n",
        "'funct-an': 'Not available',\n",
        "'q-alg': 'Not available',\n",
        "'ao-sci': 'Not available',\n",
        "'atom-ph': 'Atomic Physics',\n",
        "'chem-ph': 'Chemical Physics',\n",
        "'plasm-ph': 'Plasma Physics',\n",
        "'mtrl-th': 'Not available',\n",
        "'cmp-lg': 'Not available',\n",
        "'supr-con': 'Not available',\n",
        "'econ.GN': 'General Economics',\n",
        "'econ.TH': 'Theoretical Economics',\n",
        "'eess.SY': 'Systems and Control',\n",
        "'astro-ph': 'Astrophysics',\n",
        "'astro-ph.CO': 'Cosmology and Nongalactic Astrophysics',\n",
        "'astro-ph.EP': 'Earth and Planetary Astrophysics',\n",
        "'astro-ph.GA': 'Astrophysics of Galaxies',\n",
        "'astro-ph.HE': 'High Energy Astrophysical Phenomena',\n",
        "'astro-ph.IM': 'Instrumentation and Methods for Astrophysics',\n",
        "'astro-ph.SR': 'Solar and Stellar Astrophysics',\n",
        "'cond-mat.dis-nn': 'Disordered Systems and Neural Networks',\n",
        "'cond-mat.mes-hall': 'Mesoscale and Nanoscale Physics',\n",
        "'cond-mat.mtrl-sci': 'Materials Science',\n",
        "'cond-mat.other': 'Other Condensed Matter',\n",
        "'cond-mat.quant-gas': 'Quantum Gases',\n",
        "'cond-mat.soft': 'Soft Condensed Matter',\n",
        "'cond-mat.stat-mech': 'Statistical Mechanics',\n",
        "'cond-mat.str-el': 'Strongly Correlated Electrons',\n",
        "'cond-mat.supr-con': 'Superconductivity',\n",
        "'cs.AI': 'Artificial Intelligence',\n",
        "'cs.AR': 'Hardware Architecture',\n",
        "'cs.CC': 'Computational Complexity',\n",
        "'cs.CE': 'Computational Engineering, Finance, and Science',\n",
        "'cs.CG': 'Computational Geometry',\n",
        "'cs.CL': 'Computation and Language',\n",
        "'cs.CR': 'Cryptography and Security',\n",
        "'cs.CV': 'Computer Vision and Pattern Recognition',\n",
        "'cs.CY': 'Computers and Society',\n",
        "'cs.DB': 'Databases',\n",
        "'cs.DC': 'Distributed, Parallel, and Cluster Computing',\n",
        "'cs.DL': 'Digital Libraries',\n",
        "'cs.DM': 'Discrete Mathematics',\n",
        "'cs.DS': 'Data Structures and Algorithms',\n",
        "'cs.ET': 'Emerging Technologies',\n",
        "'cs.FL': 'Formal Languages and Automata Theory',\n",
        "'cs.GL': 'General Literature',\n",
        "'cs.GR': 'Graphics',\n",
        "'cs.GT': 'Computer Science and Game Theory',\n",
        "'cs.HC': 'Human-Computer Interaction',\n",
        "'cs.IR': 'Information Retrieval',\n",
        "'cs.IT': 'Information Theory',\n",
        "'cs.LG': 'Machine Learning',\n",
        "'cs.LO': 'Logic in Computer Science',\n",
        "'cs.MA': 'Multiagent Systems',\n",
        "'cs.MM': 'Multimedia',\n",
        "'cs.MS': 'Mathematical Software',\n",
        "'cs.NA': 'Numerical Analysis',\n",
        "'cs.NE': 'Neural and Evolutionary Computing',\n",
        "'cs.NI': 'Networking and Internet Architecture',\n",
        "'cs.OH': 'Other Computer Science',\n",
        "'cs.OS': 'Operating Systems',\n",
        "'cs.PF': 'Performance',\n",
        "'cs.PL': 'Programming Languages',\n",
        "'cs.RO': 'Robotics',\n",
        "'cs.SC': 'Symbolic Computation',\n",
        "'cs.SD': 'Sound',\n",
        "'cs.SE': 'Software Engineering',\n",
        "'cs.SI': 'Social and Information Networks',\n",
        "'cs.SY': 'Systems and Control',\n",
        "'econ.EM': 'Econometrics',\n",
        "'eess.AS': 'Audio and Speech Processing',\n",
        "'eess.IV': 'Image and Video Processing',\n",
        "'eess.SP': 'Signal Processing',\n",
        "'gr-qc': 'General Relativity and Quantum Cosmology',\n",
        "'hep-ex': 'High Energy Physics - Experiment',\n",
        "'hep-lat': 'High Energy Physics - Lattice',\n",
        "'hep-ph': 'High Energy Physics - Phenomenology',\n",
        "'hep-th': 'High Energy Physics - Theory',\n",
        "'math.AC': 'Commutative Algebra',\n",
        "'math.AG': 'Algebraic Geometry',\n",
        "'math.AP': 'Analysis of PDEs',\n",
        "'math.AT': 'Algebraic Topology',\n",
        "'math.CA': 'Classical Analysis and ODEs',\n",
        "'math.CO': 'Combinatorics',\n",
        "'math.CT': 'Category Theory',\n",
        "'math.CV': 'Complex Variables',\n",
        "'math.DG': 'Differential Geometry',\n",
        "'math.DS': 'Dynamical Systems',\n",
        "'math.FA': 'Functional Analysis',\n",
        "'math.GM': 'General Mathematics',\n",
        "'math.GN': 'General Topology',\n",
        "'math.GR': 'Group Theory',\n",
        "'math.GT': 'Geometric Topology',\n",
        "'math.HO': 'History and Overview',\n",
        "'math.IT': 'Information Theory',\n",
        "'math.KT': 'K-Theory and Homology',\n",
        "'math.LO': 'Logic',\n",
        "'math.MG': 'Metric Geometry',\n",
        "'math.MP': 'Mathematical Physics',\n",
        "'math.NA': 'Numerical Analysis',\n",
        "'math.NT': 'Number Theory',\n",
        "'math.OA': 'Operator Algebras',\n",
        "'math.OC': 'Optimization and Control',\n",
        "'math.PR': 'Probability',\n",
        "'math.QA': 'Quantum Algebra',\n",
        "'math.RA': 'Rings and Algebras',\n",
        "'math.RT': 'Representation Theory',\n",
        "'math.SG': 'Symplectic Geometry',\n",
        "'math.SP': 'Spectral Theory',\n",
        "'math.ST': 'Statistics Theory',\n",
        "'math-ph': 'Mathematical Physics',\n",
        "'nlin.AO': 'Adaptation and Self-Organizing Systems',\n",
        "'nlin.CD': 'Chaotic Dynamics',\n",
        "'nlin.CG': 'Cellular Automata and Lattice Gases',\n",
        "'nlin.PS': 'Pattern Formation and Solitons',\n",
        "'nlin.SI': 'Exactly Solvable and Integrable Systems',\n",
        "'nucl-ex': 'Nuclear Experiment',\n",
        "'nucl-th': 'Nuclear Theory',\n",
        "'physics.acc-ph': 'Accelerator Physics',\n",
        "'physics.ao-ph': 'Atmospheric and Oceanic Physics',\n",
        "'physics.app-ph': 'Applied Physics',\n",
        "'physics.atm-clus': 'Atomic and Molecular Clusters',\n",
        "'physics.atom-ph': 'Atomic Physics',\n",
        "'physics.bio-ph': 'Biological Physics',\n",
        "'physics.chem-ph': 'Chemical Physics',\n",
        "'physics.class-ph': 'Classical Physics',\n",
        "'physics.comp-ph': 'Computational Physics',\n",
        "'physics.data-an': 'Data Analysis, Statistics and Probability',\n",
        "'physics.ed-ph': 'Physics Education',\n",
        "'physics.flu-dyn': 'Fluid Dynamics',\n",
        "'physics.gen-ph': 'General Physics',\n",
        "'physics.geo-ph': 'Geophysics',\n",
        "'physics.hist-ph': 'History and Philosophy of Physics',\n",
        "'physics.ins-det': 'Instrumentation and Detectors',\n",
        "'physics.med-ph': 'Medical Physics',\n",
        "'physics.optics': 'Optics',\n",
        "'physics.plasm-ph': 'Plasma Physics',\n",
        "'physics.pop-ph': 'Popular Physics',\n",
        "'physics.soc-ph': 'Physics and Society',\n",
        "'physics.space-ph': 'Space Physics',\n",
        "'q-bio.BM': 'Biomolecules',\n",
        "'q-bio.CB': 'Cell Behavior',\n",
        "'q-bio.GN': 'Genomics',\n",
        "'q-bio.MN': 'Molecular Networks',\n",
        "'q-bio.NC': 'Neurons and Cognition',\n",
        "'q-bio.OT': 'Other Quantitative Biology',\n",
        "'q-bio.PE': 'Populations and Evolution',\n",
        "'q-bio.QM': 'Quantitative Methods',\n",
        "'q-bio.SC': 'Subcellular Processes',\n",
        "'q-bio.TO': 'Tissues and Organs',\n",
        "'q-fin.CP': 'Computational Finance',\n",
        "'q-fin.EC': 'Economics',\n",
        "'q-fin.GN': 'General Finance',\n",
        "'q-fin.MF': 'Mathematical Finance',\n",
        "'q-fin.PM': 'Portfolio Management',\n",
        "'q-fin.PR': 'Pricing of Securities',\n",
        "'q-fin.RM': 'Risk Management',\n",
        "'q-fin.ST': 'Statistical Finance',\n",
        "'q-fin.TR': 'Trading and Market Microstructure',\n",
        "'quant-ph': 'Quantum Physics',\n",
        "'stat.AP': 'Applications',\n",
        "'stat.CO': 'Computation',\n",
        "'stat.ME': 'Methodology',\n",
        "'stat.ML': 'Machine Learning',\n",
        "'stat.OT': 'Other Statistics',\n",
        "'stat.TH': 'Statistics Theory'\n",
        "}"
      ],
      "metadata": {
        "id": "5f1dGmLV5Fpf"
      },
      "execution_count": 5,
      "outputs": []
    },
    {
      "cell_type": "markdown",
      "source": [
        "## Load the Arxiv metadata"
      ],
      "metadata": {
        "id": "IAYCzjOK3Lx2"
      }
    },
    {
      "cell_type": "code",
      "source": [
        "cols = ['id', 'title', 'abstract', 'categories']\n",
        "data = []\n",
        "file_name = '/content/drive/MyDrive/RAG/arxiv-metadata-oai-snapshot.json'\n",
        "\n",
        "\n",
        "with open(file_name, encoding='latin-1') as f:\n",
        "    for line in f:\n",
        "        doc = json.loads(line)\n",
        "        lst = [doc['id'], doc['title'], doc['abstract'], doc['categories']]\n",
        "        data.append(lst)\n",
        "\n",
        "df_data = pd.DataFrame(data=data, columns=cols)\n",
        "\n",
        "print(df_data.shape)\n",
        "\n",
        "df_data.head()"
      ],
      "metadata": {
        "id": "BAi-Dfss5rf-"
      },
      "execution_count": null,
      "outputs": []
    },
    {
      "cell_type": "markdown",
      "source": [
        "## Convert the category codes into text"
      ],
      "metadata": {
        "id": "UfNeShcw3Reh"
      }
    },
    {
      "cell_type": "code",
      "source": [
        "def get_cat_text(x):\n",
        "\n",
        "    cat_text = ''\n",
        "\n",
        "    cat_list = x.split(' ')\n",
        "\n",
        "    for i, item in enumerate(cat_list):\n",
        "\n",
        "        cat_name = category_map[item]\n",
        "\n",
        "        if cat_name != 'Not available':\n",
        "\n",
        "            if i == 0:\n",
        "                cat_text = cat_name\n",
        "            else:\n",
        "                cat_text = cat_text + ', ' + cat_name\n",
        "\n",
        "    cat_text = cat_text.strip()\n",
        "\n",
        "    return cat_text\n",
        "\n",
        "\n",
        "df_data['cat_text'] = df_data['categories'].apply(get_cat_text)\n",
        "\n",
        "df_data.head()"
      ],
      "metadata": {
        "id": "lsHOA1-16BDq"
      },
      "execution_count": null,
      "outputs": []
    },
    {
      "cell_type": "code",
      "source": [
        "i = 1\n",
        "\n",
        "print('Id:',df_data.loc[i, 'id'])\n",
        "print()\n",
        "print('Title:',df_data.loc[i, 'title'])\n",
        "print()\n",
        "print('Categories:',df_data.loc[i, 'cat_text'])\n",
        "print()\n",
        "print('Abstract:',df_data.loc[i, 'abstract'])"
      ],
      "metadata": {
        "id": "Aaec4-VD6PzU"
      },
      "execution_count": null,
      "outputs": []
    },
    {
      "cell_type": "markdown",
      "source": [
        "## Text Preprocessing"
      ],
      "metadata": {
        "id": "ZhnEP2Nx3ZIn"
      }
    },
    {
      "cell_type": "markdown",
      "source": [
        "### Text Cleaning"
      ],
      "metadata": {
        "id": "cp6_yAzK3bT7"
      }
    },
    {
      "cell_type": "code",
      "source": [
        "def clean_text(x):\n",
        "\n",
        "    new_text = x.replace(\"\\n\", \" \")\n",
        "    new_text = new_text.strip()\n",
        "\n",
        "    return new_text\n",
        "\n",
        "df_data['title'] = df_data['title'].apply(clean_text)\n",
        "df_data['abstract'] = df_data['abstract'].apply(clean_text)"
      ],
      "metadata": {
        "id": "iPmyu3vT6WGX"
      },
      "execution_count": 9,
      "outputs": []
    },
    {
      "cell_type": "markdown",
      "source": [
        "### Create the text string that will be vectorized"
      ],
      "metadata": {
        "id": "Dzvv_CLK3glG"
      }
    },
    {
      "cell_type": "code",
      "source": [
        "df_data['prepared_text'] = df_data['title'] + ' {title} ' + df_data['abstract']"
      ],
      "metadata": {
        "id": "Q0hkDeck6b2t"
      },
      "execution_count": 10,
      "outputs": []
    },
    {
      "cell_type": "markdown",
      "source": [
        "### Get the data ready for vectorizing"
      ],
      "metadata": {
        "id": "rCUyDiDp3ksM"
      }
    },
    {
      "cell_type": "code",
      "source": [
        "chunk_list = list(df_data['prepared_text'])\n",
        "\n",
        "arxiv_id_list = list(df_data['id'])\n",
        "cat_list = list(df_data['cat_text'])\n",
        "\n",
        "print(len(chunk_list))\n",
        "print(len(arxiv_id_list))\n",
        "print(len(cat_list))"
      ],
      "metadata": {
        "id": "1L44GVAz6fdz"
      },
      "execution_count": null,
      "outputs": []
    },
    {
      "cell_type": "markdown",
      "source": [
        "### Create the embedding vetors"
      ],
      "metadata": {
        "id": "mEfP8pp23qa5"
      }
    },
    {
      "cell_type": "code",
      "source": [
        "model = SentenceTransformer(\"all-MiniLM-L6-v2\")\n",
        "\n",
        "embeddings = model.encode(chunk_list)\n",
        "\n",
        "print(embeddings.shape)\n",
        "print('Embedding length', embeddings.shape[1])"
      ],
      "metadata": {
        "id": "02iZ2UsP6u4w"
      },
      "execution_count": null,
      "outputs": []
    },
    {
      "cell_type": "code",
      "source": [
        "np.savez_compressed('compressed_array.npz', array_data=embeddings)"
      ],
      "metadata": {
        "id": "AHp-pfwR9oPX"
      },
      "execution_count": 15,
      "outputs": []
    },
    {
      "cell_type": "markdown",
      "source": [
        "### Save the embedding vectors and the dataframe"
      ],
      "metadata": {
        "id": "95v9EeRk3w9v"
      }
    },
    {
      "cell_type": "code",
      "source": [
        "file_size_bytes = os.path.getsize('compressed_array.npz')\n",
        "\n",
        "file_size_mb = file_size_bytes / (1024 * 1024)\n",
        "\n",
        "print(\"File size:\", file_size_mb, \"MB\")"
      ],
      "metadata": {
        "id": "5enMWtHuNJm3"
      },
      "execution_count": null,
      "outputs": []
    },
    {
      "cell_type": "code",
      "source": [
        "loaded_embeddings = np.load('compressed_array.npz')\n",
        "\n",
        "loaded_embeddings = loaded_embeddings['array_data']\n",
        "\n",
        "loaded_embeddings.shape"
      ],
      "metadata": {
        "id": "BRja1Wd4NK3a"
      },
      "execution_count": null,
      "outputs": []
    },
    {
      "cell_type": "code",
      "source": [
        "df_data.to_csv('compressed_dataframe.csv.gz', compression='gzip', index=False)"
      ],
      "metadata": {
        "id": "pVxpSGk6NTBG"
      },
      "execution_count": 18,
      "outputs": []
    },
    {
      "cell_type": "code",
      "source": [
        "df = pd.read_csv('compressed_dataframe.csv.gz', compression='gzip')\n",
        "\n",
        "print(df.shape)\n",
        "\n",
        "df.head(2)"
      ],
      "metadata": {
        "id": "jKIM43fmNWcW"
      },
      "execution_count": null,
      "outputs": []
    },
    {
      "cell_type": "markdown",
      "source": [
        "## Set up FAISS with Nearest Neighbor Search"
      ],
      "metadata": {
        "id": "97ZH3APC34oc"
      }
    },
    {
      "cell_type": "code",
      "source": [
        "embed_length = embeddings.shape[1]\n",
        "\n",
        "num_centroids = 5\n",
        "\n",
        "quantizer = faiss.IndexFlatL2(embed_length)\n",
        "\n",
        "index = faiss.IndexIVFFlat(quantizer, embed_length, num_centroids)\n",
        "\n",
        "index.train(embeddings)\n",
        "\n",
        "if not index.is_trained:\n",
        "  raise ValueError(\"error happenned in the training\")\n",
        "else:\n",
        "  print(\"training done\")\n",
        "\n",
        "index.add(embeddings)\n",
        "index.nprobe = 5"
      ],
      "metadata": {
        "id": "vT6qbARsNbvc"
      },
      "execution_count": null,
      "outputs": []
    },
    {
      "cell_type": "markdown",
      "source": [
        "## Import CrossEncoder for Re-ranking the predicted results"
      ],
      "metadata": {
        "id": "JHQoXGyr4DUP"
      }
    },
    {
      "cell_type": "code",
      "source": [
        "cross_encoder = CrossEncoder('cross-encoder/ms-marco-MiniLM-L-6-v2')"
      ],
      "metadata": {
        "id": "BPPi1nNbyjgq"
      },
      "execution_count": null,
      "outputs": []
    },
    {
      "cell_type": "markdown",
      "source": [
        "## Import Llama 2 for Text summerization Task"
      ],
      "metadata": {
        "id": "f_Grat0F4OKs"
      }
    },
    {
      "cell_type": "code",
      "source": [
        "tokenizer = AutoTokenizer.from_pretrained(\"togethercomputer/LLaMA-2-7B-32K\")\n",
        "model = AutoModelForCausalLM.from_pretrained(\"togethercomputer/LLaMA-2-7B-32K\")"
      ],
      "metadata": {
        "id": "xoLtLgi30IY_"
      },
      "execution_count": null,
      "outputs": []
    },
    {
      "cell_type": "code",
      "source": [
        "pipeline=transformers.pipeline(\n",
        "    \"text-generation\",\n",
        "    model=model,\n",
        "    tokenizer=tokenizer,\n",
        "    torch_dtype=torch.bfloat16,\n",
        "    trust_remote_code=True,\n",
        "    device_map=\"auto\",\n",
        "    max_length=100,\n",
        "    do_sample=True,\n",
        "    top_k=10,\n",
        "    num_return_sequences=1,\n",
        "    eos_token_id=tokenizer.eos_token_id\n",
        "    )"
      ],
      "metadata": {
        "id": "MN-4kXOa0Kaq"
      },
      "execution_count": null,
      "outputs": []
    },
    {
      "cell_type": "code",
      "source": [
        "def summary_generator(text):\n",
        "  llm=HuggingFacePipeline(pipeline=pipeline, model_kwargs={'temperature':0})\n",
        "  summary_prompt = \"summarize this text: \" + text\n",
        "  return llm(summary_prompt)"
      ],
      "metadata": {
        "id": "WUL8_9SI0Mta"
      },
      "execution_count": null,
      "outputs": []
    },
    {
      "cell_type": "markdown",
      "source": [
        "## Test the RAG Search System"
      ],
      "metadata": {
        "id": "QTLQ23Ii4WNF"
      }
    },
    {
      "cell_type": "code",
      "source": [
        "query_text = \"How to use the Simplex Method for minimizing cost in a business?\"\n",
        "query = [query_text]\n",
        "query_embedding = model.encode(query)\n",
        "\n",
        "top_k = 5\n",
        "\n",
        "scores, index_vals = index.search(query_embedding, top_k)\n",
        "\n",
        "pred_list = list(index_vals[0])\n",
        "\n",
        "pred_strings_list = [chunk_list[item] for item in pred_list]\n",
        "\n",
        "cross_input_list = []\n",
        "\n",
        "for item in pred_strings_list:\n",
        "\n",
        "    new_list = [query[0], item]\n",
        "\n",
        "    cross_input_list.append(new_list)\n",
        "\n",
        "\n",
        "cross_scores = cross_encoder.predict(cross_input_list)\n",
        "\n",
        "df = pd.DataFrame(cross_input_list, columns=['query_text', 'pred_text'])\n",
        "df['original_index'] = index_vals[0]\n",
        "df['cross_scores'] = cross_scores\n",
        "\n",
        "df_sorted = df.sort_values(by='cross_scores', ascending=False)\n",
        "\n",
        "df_sorted = df_sorted.reset_index(drop=True)"
      ],
      "metadata": {
        "id": "Fs4VEctYwUhu"
      },
      "execution_count": null,
      "outputs": []
    },
    {
      "cell_type": "markdown",
      "source": [
        "### Display Results"
      ],
      "metadata": {
        "id": "WgkNQQVU4ahd"
      }
    },
    {
      "cell_type": "code",
      "source": [
        "num_results = 3\n",
        "\n",
        "for i in range(0,num_results):\n",
        "\n",
        "    text = df_sorted.loc[i, 'pred_text']\n",
        "\n",
        "    original_index = df_sorted.loc[i, 'original_index']\n",
        "    arxiv_id = df_data.loc[original_index, 'id']\n",
        "    cat_text = df_data.loc[original_index, 'cat_text']\n",
        "\n",
        "    link_to_pdf = f'https://arxiv.org/pdf/{arxiv_id}'\n",
        "\n",
        "    print('Link to pdf:', link_to_pdf)\n",
        "    print('Categories:', cat_text)\n",
        "    print('Abstract:', summary_generator(text))\n",
        "    print()"
      ],
      "metadata": {
        "id": "_DwtKC84y_Qy"
      },
      "execution_count": null,
      "outputs": []
    }
  ]
}